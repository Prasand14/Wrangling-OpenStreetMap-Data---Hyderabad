{
 "cells": [
  {
   "cell_type": "markdown",
   "metadata": {},
   "source": [
    "# Data Wrangling with OpenStreetMap and MongoDB"
   ]
  },
  {
   "cell_type": "markdown",
   "metadata": {},
   "source": [
    "OpenStreetMap is a community built free editable map of the world, inspired by the success of Wikipedia where crowdsourced data is open and free from proprietary restricted use. We see some examples of its use by Craigslist and Foursquare, as an open source alternative to Google Maps.\n",
    "\n",
    "http://www.openstreetmap.org\n",
    "\n",
    "Users can map things such as polylines of roads, draw polygons of buildings or areas of interest, or insert nodes for landmarks. These map elements can be further tagged with details such as street addresses or amenity type. Map data is stored in an XML format. More details about the OSM XML can be found here:\n",
    "\n",
    "http://wiki.openstreetmap.org/wiki/OSM_XML\n",
    "\n",
    "Some highlights of the OSM XML format relevent to this project are:\n",
    "- OSM XML is list of instances of data primatives (nodes, ways, and relations) found within a given bounds\n",
    "- nodes represent dimensionless points on the map\n",
    "- ways contain node references to form either a polyline or polygon on the map\n",
    "- nodes and ways both contain children tag elements that represent key value pairs of descriptive information about a given node or way\n",
    "\n",
    "As with any user generated content, there is likely going to be dirty data. In this project I'll attempt to do some auditing, cleaning, and data summarizing tasks with Python and MongoDB."
   ]
  },
  {
   "cell_type": "markdown",
   "metadata": {},
   "source": [
    "## Chosen Map Area"
   ]
  },
  {
   "cell_type": "markdown",
   "metadata": {},
   "source": [
    "For this project, I chose to ~43MB from the Hyderabad, India. As i started my career in Hyderabad and liked the city. I figured that my familiarity with the area makes it a good candidate for analysis."
   ]
  },
  {
   "cell_type": "markdown",
   "metadata": {},
   "source": [
    "https://mapzen.com/data/metro-extracts/metro/hyderabad_india/"
   ]
  },
  {
   "cell_type": "markdown",
   "metadata": {},
   "source": [
    "## Auditing the Data"
   ]
  },
  {
   "cell_type": "markdown",
   "metadata": {},
   "source": [
    "With the OSM XML file downloaded, lets parse through it with ElementTree and count the number of unique element types. Iterative parsing is utilized since the XML is too large to process in memory."
   ]
  },
  {
   "cell_type": "code",
   "execution_count": 2,
   "metadata": {},
   "outputs": [
    {
     "name": "stdout",
     "output_type": "stream",
     "text": [
      "{'bounds': 1,\n",
      " 'member': 11471,\n",
      " 'nd': 4094848,\n",
      " 'node': 3239607,\n",
      " 'osm': 1,\n",
      " 'relation': 2470,\n",
      " 'tag': 869409,\n",
      " 'way': 772473}\n"
     ]
    }
   ],
   "source": [
    "import xml.etree.ElementTree as ET\n",
    "import pprint\n",
    "from collections import defaultdict\n",
    "\n",
    "tags = {}\n",
    "filename = 'hyderabad.osm'\n",
    "\n",
    "for event, elem in ET.iterparse(filename):\n",
    "    if elem.tag in tags: tags[elem.tag] += 1\n",
    "    else:                tags[elem.tag] = 1\n",
    "\n",
    "pprint.pprint(tags)"
   ]
  },
  {
   "cell_type": "markdown",
   "metadata": {},
   "source": [
    "Here I have built three regular expressions: `lower`, `lower_colon`, and `problemchars`.\n",
    "- 'lower': matches strings containing lower case characters\n",
    "- 'lower_colon': matches strings containing lower case characters and a single colon within the string\n",
    "- 'problemchars': matches characters that cannot be used within keys in MongoDB\n",
    "Here is a sample of OSM XML:\n",
    "'''\n",
    "<node id=\"4773253021\" lat=\"17.4269665\" lon=\"78.343947\" version=\"1\" timestamp=\"2017-04-03T16:35:42Z\" changeset=\"47418038\" uid=\"5585414\" user=\"Aparna8\">\n",
    "\t\t<tag k=\"name\" v=\"Bowl-O-China\"/>\n",
    "\t\t<tag k=\"level\" v=\"0\"/>\n",
    "\t\t<tag k=\"amenity\" v=\"restaurant\"/>\n",
    "\t\t<tag k=\"cuisine\" v=\"chinese\"/>\n",
    "\t\t<tag k=\"smoking\" v=\"no\"/>\n",
    "\t\t<tag k=\"takeaway\" v=\"no\"/>\n",
    "\t\t<tag k=\"addr:city\" v=\"Hyderabad,Telangana\"/>\n",
    "\t\t<tag k=\"addr:street\" v=\"Manikonda Village, Gatchibowli SEZ, Madhava Reddy Colony, Gachibowli\"/>\n",
    "\t\t<tag k=\"addr:postcode\" v=\"500032\"/>\n",
    "\t\t<tag k=\"addr:housenumber\" v=\"203/1\"/>\n",
    "\t</node>\n",
    "'''\n",
    "\n",
    "Within the node element there are ten 'tag' children. The key for half of these children begin with 'addr:'. Later in this notebook I will use the 'lower_colon' regex to help find these keys so I can build a single 'address' document within a larger json document."
   ]
  },
  {
   "cell_type": "code",
   "execution_count": 4,
   "metadata": {},
   "outputs": [
    {
     "name": "stdout",
     "output_type": "stream",
     "text": [
      "{'lower': 863829, 'lower_colon': 5307, 'other': 257, 'problemchars': 16}\n"
     ]
    }
   ],
   "source": [
    "import re\n",
    "\n",
    "lower = re.compile(r'^([a-z]|_)*$')\n",
    "lower_colon = re.compile(r'^([a-z]|_)*:([a-z]|_)*$')\n",
    "problemchars = re.compile(r'[=\\+/&<>;\\'\"\\?%#$@\\,\\. \\t\\r\\n]')\n",
    "\n",
    "def key_type(element, keys):\n",
    "    if element.tag == \"tag\":\n",
    "        for tag in element.iter('tag'):\n",
    "            k = tag.get('k')\n",
    "            if lower.search(k):\n",
    "                keys['lower'] += 1\n",
    "            elif lower_colon.search(k):\n",
    "                keys['lower_colon'] += 1\n",
    "            elif problemchars.search(k):\n",
    "                keys['problemchars'] += 1\n",
    "            else:\n",
    "                keys['other'] += 1\n",
    "        \n",
    "    return keys\n",
    "\n",
    "def process_map(filename):\n",
    "    keys = {\"lower\": 0, \"lower_colon\": 0, \"problemchars\": 0, \"other\": 0}\n",
    "    \n",
    "    for _, element in ET.iterparse(filename):\n",
    "        keys = key_type(element, keys)\n",
    "\n",
    "    return keys\n",
    "\n",
    "keys = process_map(filename)\n",
    "pprint.pprint(keys)"
   ]
  },
  {
   "cell_type": "markdown",
   "metadata": {},
   "source": [
    "Now lets redefine `process_map` to build a set of unique userid's found within the XML. I will then output the length of this set, representing the number of unique users making edits in the chosen map area."
   ]
  },
  {
   "cell_type": "code",
   "execution_count": 3,
   "metadata": {},
   "outputs": [
    {
     "data": {
      "text/plain": [
       "1082"
      ]
     },
     "execution_count": 3,
     "metadata": {},
     "output_type": "execute_result"
    }
   ],
   "source": [
    "def process_map(filename):\n",
    "    users = set()\n",
    "    for _, element in ET.iterparse(filename):\n",
    "        for e in element:\n",
    "            if 'uid' in e.attrib:\n",
    "                users.add(e.attrib['uid'])               \n",
    "    return users\n",
    "\n",
    "users = process_map(filename)\n",
    "len(users)"
   ]
  },
  {
   "cell_type": "markdown",
   "metadata": {},
   "source": [
    "# Problems with the Data"
   ]
  },
  {
   "cell_type": "markdown",
   "metadata": {},
   "source": [
    "**Street Names**\n",
    "\n",
    "The majority of this project will be devoted to auditing and cleaning street names seen within the OSM XML.On auditing a sample of the dataset, I ran into the following errors:\n",
    "\n",
    "1. Incorrect Postal Code/ whitespace between them: 996544\n",
    "\n",
    "2. Inconsistent City Names: HYDERABAD, Hyderabad, hyderabad\n",
    "\n",
    "3. Flouting of Convention (In filling the addresses): Plot 103-105, KPBH 5th Phase"
   ]
  },
  {
   "cell_type": "raw",
   "metadata": {},
   "source": [
    "Flouting of Naming Convention\n",
    "\n",
    "The biggest problem I encountered was an open flouting of naming convention while filling the data.The full address was filled in the addr:street key instead of the addr:full key.\n",
    "\n",
    "I will correct for this by changing the addr:street key for values that have a comma separated value (indicating an address contaning details more than the street name. This addresses only a small part of the inconsistencies the street address part of the dataset is riddled with.\n",
    "\n",
    "<tag k=\"addr:street\" v=\"Opp to Sai baba temple, Gudimalkapur crossroads, Mehedipatmam\" />\n",
    "\n",
    "to addr:full key.\n",
    "\n",
    "<tag k=\"addr:full\" v=\"Opp to Sai baba temple, Gudimalkapur crossroads, Mehedipatmam\" />"
   ]
  },
  {
   "cell_type": "code",
   "execution_count": 9,
   "metadata": {},
   "outputs": [],
   "source": [
    "import re\n",
    "\n",
    "def is_city_name(elem):\n",
    "    #Checks if the key is the city name\n",
    "    return (elem.attrib['k'] == \"addr:city\")\n",
    "\n",
    "def is_postal_code(elem):\n",
    "    #Checks if the key is a postal code\n",
    "    return (elem.attrib['k'] == \"addr:postcode\")\n",
    "\n",
    "street_type_re = re.compile(r'\\b\\S+\\.?$', re.IGNORECASE)\n",
    "lower = re.compile(r'^([a-z]|_)*$')\n",
    "lower_colon = re.compile(r'^([a-z]|_)*:([a-z]|_)*$')\n",
    "problemchars = re.compile(r'[=\\+/&<>;\\'\"\\?%#$@\\,\\. \\t\\r\\n]')"
   ]
  },
  {
   "cell_type": "markdown",
   "metadata": {},
   "source": [
    "The `audit_street_type` function will take in the dictionary of street types we are building, a string to audit, a regex to match against that string, and the list of expected street types.\n",
    "\n",
    "The function will search the string for the regex. If there is a match and the match is not in our list of expected street types, add the match as a key to the dictionary and add the string to the set."
   ]
  },
  {
   "cell_type": "code",
   "execution_count": 14,
   "metadata": {
    "collapsed": true
   },
   "outputs": [],
   "source": [
    "def audit_street(osm_file):\n",
    "    counts = defaultdict(int)\n",
    "    street_types = defaultdict(set)\n",
    "    for event, element in ET.iterparse(osm_file, events=(\"start\",)):\n",
    "        if element.tag in [\"node\", \"way\", \"relation\"]:\n",
    "            for tag in element.iter(\"tag\"):\n",
    "                if is_street_name(tag):\n",
    "                    if tag.attrib['v']:\n",
    "                        #Getting counts of addr:street keys\n",
    "                        counts[tag.attrib['k']] += 1\n",
    "                        #Storing values of addr:street tags\n",
    "                        m = street_type_re.search(tag.attrib['v'])\n",
    "                        if m:\n",
    "                            street_type = m.group()\n",
    "                            #if street_type not in expected:\n",
    "                            street_types[street_type].add(tag.attrib['v'])\n",
    "                            \n",
    "    return dict(counts), street_types"
   ]
  },
  {
   "cell_type": "markdown",
   "metadata": {},
   "source": [
    "The function `street_name` determines if an element contains an attribute `k=\"addr:street\"`. Lets use `is_street_name` as the `tag_filter` when I call the `audit` function to audit street names."
   ]
  },
  {
   "cell_type": "code",
   "execution_count": 13,
   "metadata": {
    "collapsed": true
   },
   "outputs": [],
   "source": [
    "def is_street_name(element):\n",
    "    #Checks if the key is a street name\n",
    "    return (element.attrib['k'] in ['addr:street'])"
   ]
  },
  {
   "cell_type": "markdown",
   "metadata": {},
   "source": [
    "Now I will define an `audit` function to do the parsing and auditing of the street names.\n",
    "\n",
    "I have defined this function so that it not only audits `tag` elements where `k=\"addr:street\"`, but whichever `tag` elements match the `tag_filter` function. The audit function also takes in a regex and the list of expected matches."
   ]
  },
  {
   "cell_type": "code",
   "execution_count": 10,
   "metadata": {},
   "outputs": [],
   "source": [
    "#unpacks the count and the key values\n",
    "counts, street_types = audit_street(filename)"
   ]
  },
  {
   "cell_type": "markdown",
   "metadata": {},
   "source": [
    "Now lets pretty print the output of `audit`"
   ]
  },
  {
   "cell_type": "code",
   "execution_count": 11,
   "metadata": {},
   "outputs": [
    {
     "name": "stdout",
     "output_type": "stream",
     "text": [
      "The number of 'addr:street': 841\n",
      "defaultdict(<class 'set'>,\n",
      "            {'1': {'Parwathi Nagar Road No 1',\n",
      "                   'Quena Square, Banjara Hills Road No. 1',\n",
      "                   'lane number 1',\n",
      "                   'road number 1',\n",
      "                   'street number 1',\n",
      "                   'ushodaya colony phase 1'},\n",
      "             '10': {'Street No. 10', 'Road no 10'},\n",
      "             '10-D': {'Street 10-D'},\n",
      "             '11': {'Road No 11'},\n",
      "             '12': {'Road No. 12', 'Road No 12', '12'},\n",
      "             '13': {'Road No 13'},\n",
      "             '14': {'Road No 14'},\n",
      "             '15': {'Road No 15'},\n",
      "             '2': {'Road Number 2'},\n",
      "             '20': {'20', 'street no: 20'},\n",
      "             '22': {'22'},\n",
      "             '25': {'road no 25'},\n",
      "             '3': {'Banjarahiils, Rd. No. 3',\n",
      "                   'KPHB road no 3',\n",
      "                   'Road No 3',\n",
      "                   'Siddartha Nagar Road number 3',\n",
      "                   'Street No : 3',\n",
      "                   'VANDANAPURI COLONY STREET NO. 3',\n",
      "                   'lane number 3'},\n",
      "             '34': {'Lane 34'},\n",
      "             '36': {'Jubilee Hills Road No 36', 'Road No 36'},\n",
      "             '4': {'4',\n",
      "                   'Roas No. 4',\n",
      "                   'Vivekananda Nagar Lane 4\\n',\n",
      "                   'road no 4'},\n",
      "             '4)': {'Yousufguda Police Lines (Street #4)'},\n",
      "             '5': {'Road No 5'},\n",
      "             '65': {'National highway 65'},\n",
      "             '70': {'Road No 70'},\n",
      "             '72': {'Road No 72'},\n",
      "             '8': {'Road no 8', 'street no 8'},\n",
      "             '86': {'Road Number 86'},\n",
      "             '9': {'9', 'Street number 9'},\n",
      "             'A': {'D d colony Lane A'},\n",
      "             'AMBERPET': {'AMBERPET',\n",
      "                          'CENTRAL EXCISE COLONY ,AMBERPET',\n",
      "                          'DD COLONY ,AMBERPET'},\n",
      "             'Abids': {'Abids'},\n",
      "             'Alkapuri': {'Alkapuri'},\n",
      "             'Amderpet': {'Amderpet'},\n",
      "             'Ameerpet': {'Ameerpet'},\n",
      "             'Area': {'IT Park Area', 'Cherlapalli Industrial Area'},\n",
      "             'Asmangadh': {'Asmangadh'},\n",
      "             'Attapur': {'Airport Road, Attapur'},\n",
      "             'BHEL': {'BHEL'},\n",
      "             'Badichowdi': {'Badichowdi'},\n",
      "             'Bagh': {'Pochamma Bagh'},\n",
      "             'Balanagar,': {'Plot No B-69, Apie, Balanagar, Ashok Nagar, '\n",
      "                            'Balanagar,'},\n",
      "             'Balkampet': {'Balkampet'},\n",
      "             'Balkumpet': {'Balkumpet'},\n",
      "             'Barkatpura': {'Barkatpura'},\n",
      "             'Basti': {'Yousufguda Basti'},\n",
      "             'Bazaar': {'Begum Bazaar'},\n",
      "             'Bazar': {'Lal Bazar'},\n",
      "             'Bd': {'Soldier Bd'},\n",
      "             'Begumpet': {'1st Floor,Legend Apartments, Motilal Nehru Marg, '\n",
      "                          'Begumpet',\n",
      "                          'Kundanbagh, Begumpet',\n",
      "                          'Naik Estate, Begumpet',\n",
      "                          'Nishat Bagh Colony Road, Begumpet',\n",
      "                          'Srinivas Naik Estate, Street No 1, Begumpet'},\n",
      "             'Begumpet,': {'Kundanbagh, Begumpet,'},\n",
      "             'Block,': {'Annapoorna Block,'},\n",
      "             'Bowenpally,': {'Sikh Road, Old Bowenpally;nr Market Yard, Sikh '\n",
      "                             'Road, Radha Swamy Colony, Bowenpally,'},\n",
      "             'Brahmanvadi': {'Brahmanvadi'},\n",
      "             'Bridge': {'Foot over Bridge'},\n",
      "             'Building': {'panama archi besides Building'},\n",
      "             'CAMPUS': {'NEAR OLD VETERINARY CAMPUS'},\n",
      "             'COLONY,AMBERPET': {'DD COLONY,AMBERPET'},\n",
      "             'Campus': {'JNTU Campus'},\n",
      "             'Church': {'Harinagar Main Road,  Marinatha Church'},\n",
      "             'Circle': {'Wipro Circle'},\n",
      "             'City': {', Jubilee Enclave-Hitech City',\n",
      "                      'Mohan Elite, 4th Floor, Beside Smiline Dental Hospital, '\n",
      "                      'Hitech City',\n",
      "                      'Prajay City'},\n",
      "             'Colony': {'Ananda Nagar Colony',\n",
      "                        'Arul Colony',\n",
      "                        'Chaitanyapuri Colony',\n",
      "                        'Devi Nagar Colony',\n",
      "                        'HUDA Colony',\n",
      "                        'Indra Reddy Allwyn Colony',\n",
      "                        'JV Colony',\n",
      "                        'Janakpuri Colony',\n",
      "                        'MJ Colony',\n",
      "                        'Meher Garden Rd, P & T Colony',\n",
      "                        'New Vidya Nagar Colony',\n",
      "                        'Priya Colony',\n",
      "                        'RTC Colony',\n",
      "                        'Santoshima Colony',\n",
      "                        'Shanthi Nagar Colony',\n",
      "                        'Sri Rama Colony',\n",
      "                        'V Phase, KPHB Colony',\n",
      "                        'Ved Vihar, AWHO Colony',\n",
      "                        'Venkateshwara Nagar Colony',\n",
      "                        'Vijayapuri Colony'},\n",
      "             'Colony,': {'(Municipal No. 15-25-531) Road No-1,  Phase No-1, '\n",
      "                         'Kukatpally Housing Board Colony,'},\n",
      "             'Cyberabad': {'Cyberabad'},\n",
      "             'Dammaiguda': {'Dammaiguda'},\n",
      "             'Dargah': {'Hussain Shah Wali Dargah'},\n",
      "             'Dilsukhnagar': {'Dilsukhnagar',\n",
      "                              'Moosarambagh Rd Malakpet Extension '\n",
      "                              'Dilsukhnagar'},\n",
      "             'Domalguda': {'Gaganmahal Road, Domalguda',\n",
      "                           'Street No. 10, Domalguda'},\n",
      "             'Dwarakanagar': {'Dwarakanagar'},\n",
      "             'EFLU': {'EFLU'},\n",
      "             'Enclave': {'Engineers Enclave', 'Gouthami Enclave'},\n",
      "             'Erragadda': {'Erragadda'},\n",
      "             'Estate': {'Khan Lateefkhan Estate'},\n",
      "             'Fields': {'Green Fields'},\n",
      "             'Flyover': {'Airport Flyover'},\n",
      "             'Gachibowl': {'IInd floor, 21, Ceon Road, Jayabheri Pine Valley, '\n",
      "                           'Gachibowl'},\n",
      "             'Gachibowli': {'Gachibowli',\n",
      "                            'Indra Nagar, Gachibowli',\n",
      "                            'Jayabheri Enclave, Kothaguda, Gachibowli',\n",
      "                            'Manikonda Village, Gatchibowli SEZ, Madhava Reddy '\n",
      "                            'Colony, Gachibowli',\n",
      "                            'Mourya Ranga Prasad Avenue, Gachibowli'},\n",
      "             'Gachibowlo': {'Indra Nagar Colony, Gachibowlo'},\n",
      "             'Gadda': {'Vennala Gadda'},\n",
      "             'Gadda,': {'Vennala Gadda,'},\n",
      "             'Galli': {'Gujarati Galli'},\n",
      "             'Gandipet': {'Gandipet'},\n",
      "             'Gardens': {'Chikoti Gardens'},\n",
      "             'Gayatripuram': {'Gayatripuram'},\n",
      "             'Greenlands': {'Greenlands'},\n",
      "             'Greens': {'Villa Greens'},\n",
      "             'Guda': {'Financial District, Nanakram Guda',\n",
      "                      'Gowli Guda',\n",
      "                      'SEZ Unit, South Tower Bar Building, TSA Business Park, '\n",
      "                      'Nanakram Guda, Financial District, Nanakram Guda'},\n",
      "             'Guda,': {'Ground Floor Shop Number 3 & 4, Food Court Wave Rock '\n",
      "                       'Building, Sy no 115(p) APIIC IT / ITES Special '\n",
      "                       'Economic Zone, Nanakramguda Village Serilingampally '\n",
      "                       'Mandal, Financial District, Nanakram Guda,',\n",
      "                       'WaveRock SEZ, IT Number 2, Nanakramguda,, Gachibowli '\n",
      "                       'Rd, Financial District, Nanakram Guda,'},\n",
      "             'Gudimalkapur': {'Ushodaya Colony, Gudimalkapur'},\n",
      "             'Hafeezpet': {'Vinayaka Nagar, Hafeezpet'},\n",
      "             'Highway': {'Chandanagar - RC Puram BHEL Rd Mumbai Highway',\n",
      "                         'Gachibowli - Miyapur Highway',\n",
      "                         'Old Bombay Highway'},\n",
      "             'Hills': {', Road No 11, Lake Valley Residential Society, Banjara '\n",
      "                       'Hills',\n",
      "                       ',Valley View Apartments, Banjara Hills',\n",
      "                       'Durga Enclave, Road No 12, Banjara Hills',\n",
      "                       'Jubilee Hills',\n",
      "                       'Lake Valley Residential Society, Banjara Hills',\n",
      "                       'Manikonda to Lanco Hills',\n",
      "                       'Mithilanagar Colony, Banjara Hills',\n",
      "                       'Padmasri Hills',\n",
      "                       'Paramount Hills',\n",
      "                       'Park Enclave, Road No 12, Banjara Hills',\n",
      "                       'Rd No 2, Banjara Hills',\n",
      "                       'Road No 12 Koushik Co-Operative Society, Banjara Hills',\n",
      "                       'Road No 12, Mla Colony, Banjara Hills',\n",
      "                       'Road No 14, Banjara Hills',\n",
      "                       'Road No 45, Jubilee Hills',\n",
      "                       'Road No-11, Banjara Hills',\n",
      "                       'Road No. 2, Banjara Hills',\n",
      "                       'Road No11, Banjara Hills',\n",
      "                       'Road Number 13, Jubilee Hills',\n",
      "                       'Road no 2, Jubilee Hills',\n",
      "                       'Venkata Ramana Colony, Banjara Hills',\n",
      "                       'Vinayagar Mangalagiri Apartments, Road Number 10, '\n",
      "                       'Avenue 4, Banjara Hills',\n",
      "                       'road no 31, Jubilee Hills'},\n",
      "             'Hills,': {'road no 1, Banjara Hills,'},\n",
      "             'Hospital': {'Beside Pranam Hospital',\n",
      "                          'Minister Road, kims Hospital'},\n",
      "             'Hydera': {'71-72, Road No.36, Jubilee Hills Extension, near '\n",
      "                        'Jubilee Ridge Hotel, Kavuri Hills, Madhapur, Hydera',\n",
      "                        \"Oppsite. Hotel Sitara Grand, L.B. 'X', Road, Sai \"\n",
      "                        'Sadan Complex, Vivekananda Colony, LB Nagar, Hydera'},\n",
      "             'Hyderabad': {'chinthalkumta,lb Nagar Hyderabad',\n",
      "                           'chinthalkunta,lb Nagar Hyderabad'},\n",
      "             'Hyderabad)': {'HCU Main Road (University of Hyderabad)',\n",
      "                            'HCU main road (University of Hyderabad)'},\n",
      "             'Hyderabad,': {'B-73 apie, IDA, Balanagar, Hyderabad,',\n",
      "                            'New Nagole Road, Samathapuri, Samathapuri Colony, '\n",
      "                            'Hyderabad,'},\n",
      "             'Hydernagar': {'Hydernagar'},\n",
      "             'Jeedimetla': {'Jeedimetla'},\n",
      "             'Jubleehills': {'Jubleehills'},\n",
      "             'Junction': {'Suchitra Junction', 'L. B. Nagar Junction'},\n",
      "             'Kanajiguda': {'Kanajiguda'},\n",
      "             'Khajaguda': {'Khajaguda'},\n",
      "             'Kismatpur': {'Kismatpur'},\n",
      "             'Konapur': {'Rajarejwari Nagar, Konapur'},\n",
      "             'Kondapur': {'BP Raju Marg, Kondapur',\n",
      "                          'Masjid Banda Road, Kondapur'},\n",
      "             'Kothaguda': {'Kothaguda'},\n",
      "             'Kothapet': {'Green Hills Colony, Kothapet'},\n",
      "             'Kukatpally': {'K P H B Phase 3 Kukatpally',\n",
      "                            \"People's Hospital Lane, Kukatpally\"},\n",
      "             'Kuthbiguda': {'Kuthbiguda'},\n",
      "             'L': {'Arul Colony, E C I L'},\n",
      "             'L.B.Nagar': {'L.B.Nagar'},\n",
      "             'Lane': {'Ayodhya Enclave, 2nd Lane',\n",
      "                      'Babukhan Lane',\n",
      "                      'Casa Rouge Lane',\n",
      "                      'Image Hosiptil Lane',\n",
      "                      'Kirtilal Jewellery Lane',\n",
      "                      'Park Lane'},\n",
      "             'Layout': {'Road No 10 Bandari Layout'},\n",
      "             'Madhapur': {'100 Feet Road Ayyappa Society, Madhapur',\n",
      "                          '100 Feet Road, Silicon Valley, Madhapur',\n",
      "                          '60 Feet Rd Mega Hills, Madhapur',\n",
      "                          'Brindavan Colony, Madhapur',\n",
      "                          'Cyber Hills, Guttala Begumpet, Madhapur',\n",
      "                          'Guttala Begumpet, Madhapur',\n",
      "                          'Hi-Tech City Road, Madhapur',\n",
      "                          'Madhapur',\n",
      "                          'Plot No. 22 to 34, Hi-Tech City, Madhapur',\n",
      "                          'Sreebagh Colony, Madhapur',\n",
      "                          'White Orchids Homes, Hydernagar, Madhapur'},\n",
      "             'Madhapur,': {'Vittal Rao Nagar Madhapur,'},\n",
      "             'Madhinaguda': {'Madhinaguda'},\n",
      "             'Madinaguda': {'Madinaguda'},\n",
      "             'Malkajgiri': {'Malkajgiri',\n",
      "                            'Sai Nagar Malkajgiri',\n",
      "                            'Sai Nagar, Malkajgiri'},\n",
      "             'Malkajgiri,': {'Vinayak Nagar, Malkajgiri,'},\n",
      "             'Marg': {'Raja Reddy Marg'},\n",
      "             'Meadows': {'Hi Rise Meadows'},\n",
      "             'Mehdipatnam': {'Groundfloor, Priya Colony, Gudimalkapur, '\n",
      "                             'Mehdipatnam',\n",
      "                             'Laxmi Nagar, Mehdipatnam'},\n",
      "             'Mehedipatmam': {'Opp to Sai baba temple, Gudimalkapur '\n",
      "                              'crossroads, Mehedipatmam'},\n",
      "             'Mehedipatnam': {'First Floor, Opp Sai Baba Temple, GudiMalkapur '\n",
      "                              'Rd, Gudi Malkapur, Mehedipatnam',\n",
      "                              'Gudimalkapur Rd, Mehedipatnam',\n",
      "                              'Gudimalkapur, Mehedipatnam',\n",
      "                              'Inside Shivalayam temple, Gudimalkapur, '\n",
      "                              'Mehedipatnam',\n",
      "                              'Karwan Rd, Gudimalkapur, Mehedipatnam',\n",
      "                              'Priya Colony, Gudimalkapur, Mehedipatnam',\n",
      "                              'Sai Baba Temple, Gudimalkapur, Mehedipatnam'},\n",
      "             'Miyapur': {'Miyapur', 'Main Road, Miyapur'},\n",
      "             'Motigalli': {'Motigalli'},\n",
      "             'MoulaAli': {'MoulaAli'},\n",
      "             'NAGAR': {'BADDAM BALREDDY NAGAR',\n",
      "                       'BALAJI NAGAR',\n",
      "                       'RAJENDRA NAGAR'},\n",
      "             'NAGAR,AMBERPET': {'MALLIKARJUNA NAGAR,AMBERPET',\n",
      "                                'RAMAKRISHNA NAGAR,AMBERPET'},\n",
      "             'NALLAKUNTA,AMBERPET': {'NEW NALLAKUNTA,AMBERPET'},\n",
      "             'NH7': {'Nizamabad Road;old NH7'},\n",
      "             'Nacharam': {'Nacharam'},\n",
      "             'Nagar': {'Adarsh Nagar',\n",
      "                       'Ananda Nagar',\n",
      "                       'BN Reddy Nagar',\n",
      "                       'Balaji Nagar',\n",
      "                       'Balkampet, S R Nagar',\n",
      "                       'Bhavani Nagar',\n",
      "                       'Chinthalkunta - Lb Nagar',\n",
      "                       'Don Bosco Nagar',\n",
      "                       'Gafoor Nagar',\n",
      "                       'Gautham Nagar',\n",
      "                       'Krishna Reddy Nagar',\n",
      "                       'LB Nagar',\n",
      "                       'Nagarjuna Nagar',\n",
      "                       'Near Mithra Showroom, Himayath Nagar',\n",
      "                       'Netaji Nagar',\n",
      "                       'Pragati Nagar',\n",
      "                       'RK Nagar',\n",
      "                       'Rajeev Nagar',\n",
      "                       'Ravindra Nagar',\n",
      "                       'Sai Baba Nagar',\n",
      "                       'Street No:9, Goutham Nagar',\n",
      "                       'Street no.1, Veerareddy colony, Karthikeya Nagar',\n",
      "                       'Vani Nagar',\n",
      "                       'Vasanth Nagar',\n",
      "                       'Vidyuth Nagar',\n",
      "                       'adarsh Nagar',\n",
      "                       'chinthalkunta,Lb Nagar'},\n",
      "             'Nagar,Gachibowli': {'Anjaiah Nagar,Gachibowli'},\n",
      "             'Nagar,Miyapur': {'Matrusri Nagar,Miyapur'},\n",
      "             'Narsingi': {'Brundavan Colony, Narsingi'},\n",
      "             'Nizampet': {'Nizampet'},\n",
      "             'No-92': {'Road No-92'},\n",
      "             'No.3': {'Adikmet, Road No.3'},\n",
      "             'No.7': {'Domalguda, Gaganmahal Road No.7'},\n",
      "             'Office': {'Dammaiguda Road, Near Telephone Exchange Office',\n",
      "                        'Foreigners Regional Registration Office'},\n",
      "             'Padmanabhanagar,': {'Karolbagh B, Padmanabhanagar,'},\n",
      "             'Panjagutta': {', Green Land Road, Panjagutta',\n",
      "                            'Kanthi shikara apartments, Panjagutta'},\n",
      "             'Pearl': {'Hitec City, Cyber Pearl'},\n",
      "             'Peerzadiguda': {'Parwathi Nagar Road no 1, Peerzadiguda'},\n",
      "             'Phase': {'Plot 103-105, KPBH 5th Phase',\n",
      "                       'Plot No: 103 to 105, KPHB, 5th Phase'},\n",
      "             'Prasanthinagar': {'Rajivgandhinagar, Prasanthinagar'},\n",
      "             'QUARTERS': {'HILL TOP QUARTERS'},\n",
      "             'R.C.Puram': {'R.C.Puram'},\n",
      "             'RD': {'Rikab Gung RD'},\n",
      "             'ROAD': {'DMRL ‘X’ ROAD',\n",
      "                      'STREET NO.6, YASHODARA NAGAR, SAGAR ROAD'},\n",
      "             'ROADS': {'TOLICHOWKI X ROADS'},\n",
      "             'Rajendranagar': {'Sivarampally, Rajendranagar'},\n",
      "             'Ramnagar.': {'Ramnagar road, Ramnagar.'},\n",
      "             'Rangareddy': {'Kishan Guda, Shamshabad, Rangareddy'},\n",
      "             'Rd': {'GRIET College Rd',\n",
      "                    'Narsinha Colony,Mallapur Rd',\n",
      "                    'Pupplaguda - Shaikpet Rd',\n",
      "                    'Ragala Enclave Rd',\n",
      "                    'Sardar Patel Rd'},\n",
      "             'Residency': {'Gopisetty Residency'},\n",
      "             'Resort': {'Golkonda Resort'},\n",
      "             'Road': {'100 Feet Road',\n",
      "                      'Ameerpet Road',\n",
      "                      'Ameerpet Road - Panjagutta Main Road',\n",
      "                      'Anand Nagar Entrance Road',\n",
      "                      'Ayyappa Society Main Road',\n",
      "                      'Balamrai Road',\n",
      "                      'Balanagar Cross Road',\n",
      "                      'Bapu Nagar Road',\n",
      "                      'Bone Factory Road',\n",
      "                      'Chinthalkunta Road',\n",
      "                      'Cyber Towers - Madhapur Main Road',\n",
      "                      'Dhoolpet Road',\n",
      "                      'Doolapally Road',\n",
      "                      'Dr A.S.Rao Nagar Road',\n",
      "                      'Dr A.S.Rao Nagar Road;Dr. A.S.Rao Nagar Road',\n",
      "                      'Fever Hospital Road',\n",
      "                      'First Lancer Road',\n",
      "                      'Glendale School Road',\n",
      "                      'Golconda Road',\n",
      "                      'Golnaka Road',\n",
      "                      'HAL Township Main Road',\n",
      "                      'HITEC City Main Road',\n",
      "                      'Habsiguda Main Road',\n",
      "                      'Hi Tech City Main Road',\n",
      "                      'Himayath Nagar Main Road',\n",
      "                      'Hitec City - Kondapur Main Road',\n",
      "                      'ISB Road',\n",
      "                      'Image Garden Road',\n",
      "                      'Inner Ring Road',\n",
      "                      'Inorbit Mall Road',\n",
      "                      'JNTU Road',\n",
      "                      'Jeedimetla Main Road',\n",
      "                      'KPHB 6th Phase Road',\n",
      "                      'KPHB 9th Phase Road',\n",
      "                      'Karthikeyanagar Main Road',\n",
      "                      'Kondapur X Road',\n",
      "                      'Kothapet Road',\n",
      "                      'Lalitha Nagar Road',\n",
      "                      'Liberty Road',\n",
      "                      'Library Road',\n",
      "                      'Lowar Dhoolpet Road',\n",
      "                      'MANAGE Administrative Building Road',\n",
      "                      'Madhapur Main Road',\n",
      "                      'Madhuranagar Main Road',\n",
      "                      'Malkajgiri Main Road',\n",
      "                      'Mallapur Road',\n",
      "                      'Masjid Banda Road',\n",
      "                      'Maula Ali Road',\n",
      "                      'Musheerabad Main Road',\n",
      "                      'Nagarjuna Circle Road',\n",
      "                      'Nagole main Road',\n",
      "                      'Nagole-Bandlaguda Road',\n",
      "                      'Nampally to Mallepally Road',\n",
      "                      'Nehru Outer Ring Road',\n",
      "                      'Nizampet Road',\n",
      "                      'Old Bombay Road',\n",
      "                      'Opp Parda Gate King Koti Road',\n",
      "                      'Osmania University Main Road',\n",
      "                      'PALM Road - Balanagar Road',\n",
      "                      'Pipeline Road',\n",
      "                      'Pragathi Nagar Road',\n",
      "                      'Prenderghast Road',\n",
      "                      'Prof. C.R.Rao Road',\n",
      "                      'Quthubullapur Main Road',\n",
      "                      'Qutubullapur Main Road',\n",
      "                      'Raheja IT Park Road',\n",
      "                      'Raj Bhavan Road',\n",
      "                      'Sainikpuri-ECIL Main Road',\n",
      "                      'Sanjeeva Reddy Nagar Colony Main Road',\n",
      "                      'Sardar Patel Road',\n",
      "                      'Sarojini Devi Road',\n",
      "                      'Shivam Road',\n",
      "                      'Sitaphalmandi Main Road',\n",
      "                      'Somajiguda Road - Panjagutta Main Road',\n",
      "                      'Sports Complex Road',\n",
      "                      'Sri Nagar Colony Main Road',\n",
      "                      'Station Road',\n",
      "                      'Subash Road',\n",
      "                      'Tilak Road',\n",
      "                      'Uppal Khalsa Village, Inner Ring Road',\n",
      "                      'Vengal Rao Nagar Main Road',\n",
      "                      'Vidyanagar Railway Stn. Road',\n",
      "                      'Vivekananda Nagar Road',\n",
      "                      'Whitefields Road',\n",
      "                      'Yousuf Baba Dargah Road',\n",
      "                      'Yousufguda Main Road',\n",
      "                      'Zoo Park Main Road',\n",
      "                      'habsiguda Main Road',\n",
      "                      'pannama Road',\n",
      "                      'sathyanarayana Puram Road'},\n",
      "             'Road,AMBERPET': {'Nallakunta Road,AMBERPET',\n",
      "                               'Shivam Road,AMBERPET'},\n",
      "             'Roads': {\"Habsiguda 'X' Roads\"},\n",
      "             'Route': {'Wipro SEZ Parking Route'},\n",
      "             'S.R.Nagar': {'S.R.Nagar'},\n",
      "             'Safilguda': {'Kamalagiri Plaza, R.K. Nagar, Safilguda'},\n",
      "             'Sainikpuri': {'Sainikpuri'},\n",
      "             'Secunderabad,': {'2, Sarojini Devi Rd, Regimental Bazaar, '\n",
      "                               'Shivaji Nagar, Ranga Reddy,, Secunderabad,'},\n",
      "             'Singal': {'chinthalkunta Singal'},\n",
      "             'Somajiguda': {'Raj Bhavan Road, Somajiguda',\n",
      "                            'Soldier Bd, Somajiguda'},\n",
      "             'Stop': {'Near Malkajgiri Bus Stop'},\n",
      "             'Street': {'Ashok Nagar Street',\n",
      "                        'HAL Township Street',\n",
      "                        'Ramalayam Street'},\n",
      "             'Subashnagar': {'Subashnagar'},\n",
      "             \"Suchitra'X'Roads\": {\"Suchitra'X'Roads\"},\n",
      "             'Tarnaka,': {'Vijayapuri, Tarnaka,'},\n",
      "             'Telangana': {'Drnayanthi Chamber, Adarsh Nagar, Adarsh Nagar, '\n",
      "                           'Hyderabad, Telangana',\n",
      "                           'P.V.R. Hi-Tech School Building, Bansilalpet, '\n",
      "                           'Gandhinagar,, Secunderabad, Bansilalpet, Bhoiguda, '\n",
      "                           'hyderabad, Telangana'},\n",
      "             'Temple)K.P.H.B.Colony': {'3rd Phase,Near Bus Stop '\n",
      "                                       '(Temple)K.P.H.B.Colony'},\n",
      "             'Township': {'HAL Township'},\n",
      "             'Uppuguda': {'Uppuguda'},\n",
      "             'V.V.Nagar': {'V.V.Nagar'},\n",
      "             'Vanasthalipuram': {'Dwarakamai Nagar, Vanasthalipuram',\n",
      "                                 'Saheb Nagar, Vanasthalipuram'},\n",
      "             'Vanasthalipuram,': {'Akbar Arcade, Auto Sainagar Road, Near Nri '\n",
      "                                  'Concept School, Vanasthalipuram,',\n",
      "                                  'HUDA Sai Nagar Colony, Vanasthalipuram,',\n",
      "                                  'Huda Sai Nagar Colony, Vanasthalipuram,'},\n",
      "             'Venkatapuram': {'Rajiv Nagar Colony, Venkatapuram'},\n",
      "             'VenkateswaraNagar': {'VenkateswaraNagar'},\n",
      "             'Vidyanagar.': {'Adikmet Road, Vidyanagar.'},\n",
      "             'Vikrampuri': {'Vikrampuri'},\n",
      "             'Village': {'Gopanapally Village'},\n",
      "             'abids': {'abids'},\n",
      "             'alwal': {'towards alwal'},\n",
      "             'amberpet': {'ramakrishna nagar ,amberpet'},\n",
      "             'ameerpet': {'big bazar lane, ameerpet'},\n",
      "             'bagh': {'kishan bagh'},\n",
      "             'chinthalkunta': {'chinthalkunta'},\n",
      "             'circle': {'ameerpet circle', 'vijaynagar colony circle'},\n",
      "             'colony': {'CBI colony',\n",
      "                        'Difence colony',\n",
      "                        'Jai jawan colony',\n",
      "                        'Saraswathi nagar colony',\n",
      "                        'Saraswathnagar colony',\n",
      "                        'Western plaza street, OU colony',\n",
      "                        'arunodaya colony',\n",
      "                        'hal colony',\n",
      "                        'kamalapuri colony, srinagar colony',\n",
      "                        'kphb colony',\n",
      "                        'new shantinagar colony',\n",
      "                        'sapthagiri colony',\n",
      "                        'snehapuri colony',\n",
      "                        'songwriters colony',\n",
      "                        'ushoday colony'},\n",
      "             'complex': {'laxmi complex'},\n",
      "             'dammaiguda': {'dammaiguda'},\n",
      "             'dulapalle': {'dulapalle'},\n",
      "             'enclave': {'8-5-336,Vittal enclave'},\n",
      "             'gangaram': {'gangaram'},\n",
      "             'godowns,vanasthalipuram.': {'narayana Jr college lane,Panama '\n",
      "                                          'godowns,vanasthalipuram.'},\n",
      "             'green)': {'Hyderabad Metro Line 2 (green)'},\n",
      "             'highway': {'Gangaram - Chandanagar Road - Mumbai highway'},\n",
      "             'hills': {'surya hills', 'banjara hills'},\n",
      "             'jntu': {'jntu'},\n",
      "             'jubleehills': {'jubleehills'},\n",
      "             'junction': {'kamineni junction', 'Pannama junction'},\n",
      "             'kapra': {'plot no 9, sri ram nagar, kapra'},\n",
      "             'kismatpur': {'kismatpur'},\n",
      "             'lane': {'Red rose restaurant lane',\n",
      "                      'maskan, Civil supplies bhavan lane'},\n",
      "             'laxminagar': {'laxminagar'},\n",
      "             'lines': {'police lines', 'Police lines'},\n",
      "             'maisammaguda': {'maisammaguda'},\n",
      "             'margh': {'acharya chanakya margh'},\n",
      "             'market.': {'opp.fruit market.'},\n",
      "             'met': {'abdullapur met'},\n",
      "             'nagar': {'baddam balreddy nagar',\n",
      "                       'kamala nagar',\n",
      "                       'lb nagar',\n",
      "                       'navajeevan nagar',\n",
      "                       'raimath nagar',\n",
      "                       'sanath nagar',\n",
      "                       'santhi nagar',\n",
      "                       'subhadra nagar'},\n",
      "             'nagar,amberpet': {'mallikarjuna nagar,amberpet'},\n",
      "             'nagar,borabanda': {'rajiv gandhi nagar,borabanda'},\n",
      "             'nilayam': {'vani nilayam'},\n",
      "             'office': {'panchayathi office'},\n",
      "             'pet': {'Hasmat pet'},\n",
      "             'phase': {'6th phase'},\n",
      "             'pochampally': {'pochampally'},\n",
      "             'post': {'Chinthalkunta old check post',\n",
      "                      'chinthal kunta check post'},\n",
      "             'raod': {'hafeezpet raod'},\n",
      "             'rd': {'Qutub shahi tomb rd',\n",
      "                    'bk guda rd',\n",
      "                    'manage rd',\n",
      "                    'picket rd',\n",
      "                    'vijayapuri colony rd'},\n",
      "             'road': {'6 number road',\n",
      "                      'Abids road',\n",
      "                      'Borabanda Mothinagar road',\n",
      "                      'CIS road',\n",
      "                      'Dargah Hussain Shah Wali road',\n",
      "                      'Dhoolpet road',\n",
      "                      'Dhoopet road',\n",
      "                      'Gandhinagar road',\n",
      "                      'HAL Township Main road',\n",
      "                      'HCU main road',\n",
      "                      'Indira park road',\n",
      "                      'Lower Dhoolpet road',\n",
      "                      'MANAGE road',\n",
      "                      'Ragala Enclave road',\n",
      "                      'Rajiv nagar X road',\n",
      "                      'Sbiicm road',\n",
      "                      'Yapral-Ammuguda road',\n",
      "                      'chowk road',\n",
      "                      'gajularamaram road',\n",
      "                      'gajuularamaram road',\n",
      "                      'gandhi nagar road',\n",
      "                      'hakeempet road',\n",
      "                      'kaminpet hospital road',\n",
      "                      'kukatpally road',\n",
      "                      'madhapur road',\n",
      "                      'mallapur road',\n",
      "                      'moosarambagh road',\n",
      "                      'nampally to mallapally road',\n",
      "                      'old mumbai road',\n",
      "                      'rci road',\n",
      "                      'shivalayam road',\n",
      "                      'tellapur road',\n",
      "                      'vijaynagar colony road'},\n",
      "             's.j.b.hills': {'s.j.b.hills'},\n",
      "             'school': {'raimathnagar,yusufguda,near  government high school'},\n",
      "             'shapurnagar': {'shapurnagar', 'new shapurnagar'},\n",
      "             'somajiguda': {'civil supplies bhavan lane, somajiguda'},\n",
      "             'street': {'1 st street',\n",
      "                        'back street',\n",
      "                        'venkat reddy nagar street'},\n",
      "             'substation': {'opp. substation', 'substation'},\n",
      "             'uppuguda': {'uppuguda'},\n",
      "             'vanasthallipuram': {'vanasthallipuram'},\n",
      "             'x-roads': {'miyapur x-roads'},\n",
      "             'x;road': {'x;road'}})\n"
     ]
    }
   ],
   "source": [
    "print(\"The number of 'addr:street': {}\".format(counts['addr:street']))\n",
    "pprint.pprint(street_types)"
   ]
  },
  {
   "cell_type": "markdown",
   "metadata": {},
   "source": [
    "Now I have a list of some abbreviated street types (as well as locations without street types). This is by no means a comprehensive list of all of the abbreviated street types used within the XML as all of these matches occur only as the last token at the end of a street name, but it is a very good first swipe at the problem.\n",
    "\n",
    "To replace these abbreviated street types, I will define an update function that takes a string to update, a mapping dictionary, and a regex to search.\n",
    "\n",
    "But, Before that we can observe instead of street name we have a complete address in certain cases. This is the scenario we haved discussed under Flouting of Naming Convention."
   ]
  },
  {
   "cell_type": "markdown",
   "metadata": {},
   "source": [
    "### Inconsistency in City Name and Postal Code"
   ]
  },
  {
   "cell_type": "code",
   "execution_count": 15,
   "metadata": {},
   "outputs": [
    {
     "name": "stdout",
     "output_type": "stream",
     "text": [
      "defaultdict(<class 'int'>,\n",
      "            {', Hyderabad': 1,\n",
      "             'Bandlaguda': 1,\n",
      "             \"Beside Centre for Good Governance, Greenlands colony, Gachibowli 'X'Roads, Sherilingampally, Rangareddy Dt.,\": 1,\n",
      "             'Beside Sai Gopi Chand Batmintion Academy, Greenlands Colony': 1,\n",
      "             'CHAMPAPET': 1,\n",
      "             'Greater Hyderabad Municipal Corporation': 1,\n",
      "             'HITEC City': 1,\n",
      "             'HYDERABAD': 21,\n",
      "             'Hyderabad': 369,\n",
      "             'Hyderabad Telangana': 1,\n",
      "             'Hyderabad, Telangana': 3,\n",
      "             'Hyderabad, Telangana.': 3,\n",
      "             'Hyderabad,Telangana': 1,\n",
      "             'KARMANGHAT': 1,\n",
      "             'Kismat pur': 2,\n",
      "             'Kismatpur': 1,\n",
      "             'Kukatpally Hyderabad': 1,\n",
      "             'Kukatpally Hyderabad,Telangana': 1,\n",
      "             'Madhapur': 1,\n",
      "             'Madhapur, Hyderabad, India': 1,\n",
      "             'Masab Tank, Hyderabad': 1,\n",
      "             'Masoorabad': 2,\n",
      "             'Nizampet': 1,\n",
      "             'R R District': 4,\n",
      "             'Ramanthapur': 2,\n",
      "             'Secundarabad': 2,\n",
      "             'Secunderabad': 19,\n",
      "             'Secunderabad, Telangana': 1,\n",
      "             'TOLICHOWKI': 2,\n",
      "             'Uppal': 2,\n",
      "             'Washington': 1,\n",
      "             'Yapral': 1,\n",
      "             'boduppal': 1,\n",
      "             'dammaiguda': 1,\n",
      "             'dundigal': 1,\n",
      "             'gajularama ram': 1,\n",
      "             'gajularamaram': 1,\n",
      "             'gajuularamaram': 2,\n",
      "             'hyderabad': 110,\n",
      "             'hyderabd': 1,\n",
      "             'hydreabad': 1,\n",
      "             'hydrebad': 1,\n",
      "             'ida jeedimetla': 1,\n",
      "             'ida,jeedimetla': 1,\n",
      "             'panjagutta': 1,\n",
      "             'patancheru': 2,\n",
      "             'ranga reddy': 1,\n",
      "             'secundarabad': 1,\n",
      "             'secunderabad': 2,\n",
      "             'yusufguda': 3})\n",
      "defaultdict(<class 'int'>,\n",
      "            {'34500034': 1,\n",
      "             '400056': 1,\n",
      "             '50': 1,\n",
      "             '500 032': 1,\n",
      "             '500 081': 2,\n",
      "             '500 095': 1,\n",
      "             '5000000': 1,\n",
      "             '500001': 7,\n",
      "             '500002': 4,\n",
      "             '500003': 21,\n",
      "             '500004': 1,\n",
      "             '500005': 2,\n",
      "             '500006': 3,\n",
      "             '500007': 11,\n",
      "             '500008': 13,\n",
      "             '500009': 2,\n",
      "             '500010': 3,\n",
      "             '500011': 1,\n",
      "             '500012': 1,\n",
      "             '500013': 12,\n",
      "             '500014': 1,\n",
      "             '500015': 6,\n",
      "             '500016': 14,\n",
      "             '500017': 3,\n",
      "             '500018': 9,\n",
      "             '500019': 2,\n",
      "             '500020': 6,\n",
      "             '500023': 1,\n",
      "             '500025': 1,\n",
      "             '500026': 3,\n",
      "             '500027': 6,\n",
      "             '500028': 19,\n",
      "             '500029': 10,\n",
      "             '50003': 1,\n",
      "             '500030': 9,\n",
      "             '500032': 32,\n",
      "             '500033': 19,\n",
      "             '500034': 24,\n",
      "             '500035': 9,\n",
      "             '500036': 5,\n",
      "             '500037': 4,\n",
      "             '500038': 16,\n",
      "             '500039': 5,\n",
      "             '50004': 1,\n",
      "             '500040': 1,\n",
      "             '500042': 5,\n",
      "             '500044': 4,\n",
      "             '500045': 8,\n",
      "             '500046': 11,\n",
      "             '500047': 26,\n",
      "             '500048': 1,\n",
      "             '500049': 31,\n",
      "             '500050': 9,\n",
      "             '500052': 1,\n",
      "             '500053': 1,\n",
      "             '500055': 12,\n",
      "             '500057': 4,\n",
      "             '500058': 1,\n",
      "             '500060': 4,\n",
      "             '500062': 13,\n",
      "             '500063': 1,\n",
      "             '500064': 3,\n",
      "             '500067': 6,\n",
      "             '500068': 16,\n",
      "             '500070': 8,\n",
      "             '500072': 22,\n",
      "             '500073': 4,\n",
      "             '500074': 6,\n",
      "             '500075': 3,\n",
      "             '500076': 33,\n",
      "             '500078': 1,\n",
      "             '50008': 1,\n",
      "             '500080': 3,\n",
      "             '500081': 44,\n",
      "             '500082': 29,\n",
      "             '500083': 3,\n",
      "             '500084': 13,\n",
      "             '500085': 7,\n",
      "             '500086': 16,\n",
      "             '500089': 3,\n",
      "             '500090': 8,\n",
      "             '500092': 2,\n",
      "             '500093': 1,\n",
      "             '500095': 1,\n",
      "             '500096': 3,\n",
      "             '500098': 3,\n",
      "             '500100': 1,\n",
      "             '500107': 1,\n",
      "             '50046': 1,\n",
      "             '501218': 1,\n",
      "             '502032': 3,\n",
      "             '5021377': 1,\n",
      "             '502319': 1,\n",
      "             '996544': 1,\n",
      "             'Hyderabad – 500032': 1})\n"
     ]
    }
   ],
   "source": [
    "def audit_rest(osm_file):\n",
    "    #audits city name and postalcodes\n",
    "    city_name = defaultdict(int)\n",
    "    postal_codes = defaultdict(int)\n",
    "    \n",
    "    for event, element in ET.iterparse(osm_file, events=(\"start\",)):\n",
    "        if element.tag in [\"node\", \"way\", \"relation\"]:\n",
    "            for tag in element.iter(\"tag\"):\n",
    "                if is_city_name(tag):\n",
    "                    city_name[tag.attrib['v']] += 1\n",
    "                elif is_postal_code(tag):\n",
    "                    postal_codes[tag.attrib['v']] += 1                                    \n",
    "    return city_name, postal_codes\n",
    "\n",
    "city_name, postal_codes = audit_rest(filename)\n",
    "\n",
    "pprint.pprint(city_name)\n",
    "pprint.pprint(postal_codes)    "
   ]
  },
  {
   "cell_type": "code",
   "execution_count": 6,
   "metadata": {
    "collapsed": true
   },
   "outputs": [],
   "source": [
    "mapping = {'Colony,' : 'Colony' ,'Begumpet,' : 'Begumpet',\n",
    "        'Amderpet' : 'Ameerpet', 'Hydera' : 'Hyderabad',\n",
    "        'Begumpet,' : 'Begumpet', 'Gachibowl' : 'Gachibowli',\n",
    "        'Gachibowlo' : 'Gachibowli', 'Gadda,' : 'Gadda',\n",
    "        'Guda,' : 'Guda', 'Hyderabad,' : 'Hyderabad',\n",
    "        'Konapur' : 'Kondapur', 'Madhapur,' : 'Madhapur',\n",
    "        'Maehinaguda' : 'Madinaguda', 'Mehedipatmam' : 'Mehdipatnam',\n",
    "        'Mehedipatnam' : 'Mehdipatnam', 'Rd' : 'Road',\n",
    "        'RD' : 'Road', 'rd' : 'Road',\n",
    "        'raod' : 'Road', 'vanasthallipuram' : 'Vanasthalipuram',\n",
    "        'x;road' : 'x-roads', 'Vanasthalipuram,' : 'Vanasthalipuram',\n",
    "        'Malkajgiri,' : 'Malkajgiri'\n",
    "    }"
   ]
  },
  {
   "cell_type": "markdown",
   "metadata": {},
   "source": [
    "## Preparing for MongoDB"
   ]
  },
  {
   "cell_type": "markdown",
   "metadata": {},
   "source": [
    "To load the XML data into MongoDB, I will have to transform the data into json documents structured like this:\n",
    "```\n",
    "{\n",
    "    \"id\": \"2406124091\",\n",
    "    \"type: \"node\",\n",
    "    \"visible\":\"true\",\n",
    "    \"created\": {\n",
    "                  \"version\":\"2\",\n",
    "                  \"changeset\":\"17206049\",\n",
    "                  \"timestamp\":\"2013-08-03T16:43:42Z\",\n",
    "                  \"user\":\"linuxUser16\",\n",
    "                  \"uid\":\"1219059\"\n",
    "               },\n",
    "    \"pos\": [41.9757030, -87.6921867],\n",
    "    \"address\": {\n",
    "                  \"housenumber\": \"5157\",\n",
    "                  \"postcode\": \"60625\",\n",
    "                  \"street\": \"North Lincoln Ave\"\n",
    "               },\n",
    "    \"amenity\": \"restaurant\",\n",
    "    \"cuisine\": \"mexican\",\n",
    "    \"name\": \"La Cabana De Don Luis\",\n",
    "    \"phone\": \"1 (773)-271-5176\"\n",
    "}\n",
    "```\n",
    "The transform will follow these rules:\n",
    "- Process only 2 types of top level tags: node and way\n",
    "- All attributes of node and way should be turned into regular key/value pairs, except:\n",
    "  - The following attributes should be added under a key `created: version, changeset, timestamp, user, uid`\n",
    "  - Attributes for latitude and longitude should be added to a pos array, for use in geospacial indexing. Make sure the values inside pos array are floats and not strings.\n",
    "- If second level `tag` \"k\" value contains problematic characters, it should be ignored\n",
    "- If second level `tag` \"k\" value starts with \"addr:\", it should be added to a dictionary address\n",
    "- If second level `tag` \"k\" value does not start with \"addr:\", but contains \":\", you can process it same as any other tag.\n",
    "- If there is a second \":\" that separates the type/direction of a street, the tag should be ignored, for example:\n",
    "```\n",
    "<tag k=\"addr:housenumber\" v=\"5158\"/>\n",
    "<tag k=\"addr:street\" v=\"North Lincoln Avenue\"/>\n",
    "<tag k=\"addr:street:name\" v=\"Lincoln\"/>\n",
    "<tag k=\"addr:street:prefix\" v=\"North\"/>\n",
    "<tag k=\"addr:street:type\" v=\"Avenue\"/>\n",
    "<tag k=\"amenity\" v=\"pharmacy\"/>\n",
    "```\n",
    "should be turned into:\n",
    "```\n",
    "{\n",
    "    \"address\": {\n",
    "                   \"housenumber\": 5158,\n",
    "                   \"street\": \"North Lincoln Avenue\"\n",
    "               },\n",
    "    \"amenity\": \"pharmacy\"\n",
    "}\n",
    "```\n",
    "For \"way\" specifically:\n",
    "```\n",
    "<nd ref=\"305896090\"/>\n",
    "<nd ref=\"1719825889\"/>\n",
    "```\n",
    "should be turned into:\n",
    "```\n",
    "{\n",
    "    \"node_refs\": [\"305896090\", \"1719825889\"]\n",
    "}\n",
    "```\n",
    "To do this transformation, lets define a function `shape_element` that processes an element. Within this function I will use the update function with the regexes and mapping dictionaries defined above to clean street addresses. Additionally, I will store timestamp as a Python `datetime` rather than as a string. The format of the timestamp can be found here:\n",
    "\n",
    "http://overpass-api.de/output_formats.html"
   ]
  },
  {
   "cell_type": "code",
   "execution_count": 17,
   "metadata": {
    "collapsed": true
   },
   "outputs": [],
   "source": [
    "from datetime import datetime\n",
    "\n",
    "CREATED = [\"version\", \"changeset\", \"timestamp\", \"user\", \"uid\"]\n",
    "\n",
    "def shape_element(element):\n",
    "    node = {}    \n",
    "    if element.tag == \"node\" or element.tag == \"way\" :\n",
    "        node['type'] = element.tag\n",
    "        \n",
    "        # Parse attributes\n",
    "        for attrib in element.attrib:\n",
    "\n",
    "            # Data creation details\n",
    "            if attrib in CREATED:\n",
    "                if 'created' not in node:\n",
    "                    node['created'] = {}\n",
    "                if attrib == 'timestamp':\n",
    "                    node['created'][attrib] = datetime.strptime(element.attrib[attrib], '%Y-%m-%dT%H:%M:%SZ')\n",
    "                else:\n",
    "                    node['created'][attrib] = element.get(attrib)\n",
    "\n",
    "            # Parse location\n",
    "            if attrib in ['lat', 'lon']:\n",
    "                lat = float(element.attrib.get('lat'))\n",
    "                lon = float(element.attrib.get('lon'))\n",
    "                node['pos'] = [lat, lon]\n",
    "\n",
    "            # Parse the rest of attributes\n",
    "            else:\n",
    "                node[attrib] = element.attrib.get(attrib)\n",
    "            \n",
    "        # Process tags\n",
    "        for tag in element.iter('tag'):\n",
    "            key   = tag.attrib['k']\n",
    "            value = tag.attrib['v']\n",
    "            if not problemchars.search(key):\n",
    "\n",
    "                # Tags with single colon and beginning with addr\n",
    "                if lower_colon.search(key) and key.find('addr') == 0:\n",
    "                    if 'address' not in node:\n",
    "                        node['address'] = {}\n",
    "                    sub_attr = key.split(':')[1]\n",
    "                    if is_street_name(tag):\n",
    "                        # Do some cleaning\n",
    "                        if ',' in tag.attrib['v']:\n",
    "                            sub_attr = 'full'\n",
    "                        name = tag.attrib['v']\n",
    "                        name_s = name.split(' ')\n",
    "                        street_type = name_s[len(name_s)-1]\n",
    "                        if street_type in mapping:\n",
    "                            node['address'][sub_attr] = name.replace(street_type,mapping[name_s[len(name_s)-1]])\n",
    "                        else:\n",
    "                            node['address'][sub_attr] = name\n",
    "                    #Cleans the city name\n",
    "                    elif is_city_name(tag):\n",
    "                        if tag.attrib['v'] != \"Hyderabad\":\n",
    "                            node['address'][sub_attr] = \"Hyderabad\"\n",
    "                    elif is_postal_code(tag):\n",
    "                        if tag.attrib['v'] in ['500 032','500 081', '500 095']:\n",
    "                            k = tag.attrib['v'].split(' ', 1)\n",
    "                            node['address'][sub_attr] = ''.join(k)\n",
    "                        elif tag.attrib['v'] == '996544':\n",
    "                            node['address'][sub_attr] = '500001'\n",
    "                        elif len(tag.attrib['v']) != 6:\n",
    "                            node['address'][sub_attr] = '500001'\n",
    "                    else:    \n",
    "                        node['address'][sub_attr] = value\n",
    "\n",
    "                # All other tags that don't begin with \"addr\"\n",
    "                elif not key.find('addr') == 0:\n",
    "                    if key not in node:\n",
    "                        node[key] = value\n",
    "                else:\n",
    "                    node[\"tag:\" + key] = value\n",
    "        \n",
    "        # Process nodes\n",
    "        for nd in element.iter('nd'):\n",
    "            if 'node_refs' not in node:\n",
    "                node['node_refs'] = []\n",
    "            node['node_refs'].append(nd.attrib['ref'])\n",
    "\n",
    "        return node\n",
    "    else:\n",
    "        return None"
   ]
  },
  {
   "cell_type": "markdown",
   "metadata": {},
   "source": [
    "Now parse the XML, shape the elements, and write to a json file.\n",
    "\n",
    "We're using BSON for compatibility with the date aggregation operators. There is also a Timestamp type in MongoDB, but use of this type is explicitly discouraged by the [documentation](http://docs.mongodb.org/manual/core/document/#timestamps)."
   ]
  },
  {
   "cell_type": "code",
   "execution_count": 30,
   "metadata": {},
   "outputs": [],
   "source": [
    "import json\n",
    "from bson import json_util\n",
    "\n",
    "def process_map(file_in, pretty = False):\n",
    "    file_out = \"{0}.json\".format(file_in)\n",
    "    with open(file_out, \"w\") as fo:\n",
    "        for _, element in ET.iterparse(file_in):\n",
    "            el = shape_element(element)\n",
    "            if el:\n",
    "                if pretty:\n",
    "                    fo.write(json.dumps(el, indent=2, default=json_util.default)+\"\\n\")\n",
    "                else:\n",
    "                    fo.write(json.dumps(el, default=json_util.default) + \"\\n\")\n",
    "\n",
    "process_map(filename)"
   ]
  },
  {
   "cell_type": "markdown",
   "metadata": {},
   "source": [
    "## Overview of the Data"
   ]
  },
  {
   "cell_type": "markdown",
   "metadata": {},
   "source": [
    "Lets look at the size of the files we worked with and generated."
   ]
  },
  {
   "cell_type": "code",
   "execution_count": 26,
   "metadata": {},
   "outputs": [
    {
     "name": "stdout",
     "output_type": "stream",
     "text": [
      "The downloaded file is 734.883521 MB\n"
     ]
    }
   ],
   "source": [
    "import os\n",
    "print('The downloaded file is {} MB'.format(os.path.getsize(filename)/1.0e6)) # convert from bytes to megabytes"
   ]
  },
  {
   "cell_type": "code",
   "execution_count": 22,
   "metadata": {},
   "outputs": [
    {
     "name": "stdout",
     "output_type": "stream",
     "text": [
      "The json file is 1341.467325 MB\n"
     ]
    }
   ],
   "source": [
    "print('The json file is {} MB'.format(os.path.getsize(filename + \".json\")/1.0e6)) # convert from bytes to megabytes"
   ]
  },
  {
   "cell_type": "markdown",
   "metadata": {},
   "source": [
    "**Plenty of Street Addresses**\n",
    "\n",
    "Besides dirty data within the `addr:street` field, we're working with a sizeable amount of data on street addresses. Here I will count the total number of nodes and ways that contain a tag child with `k=\"addr:street\"`"
   ]
  },
  {
   "cell_type": "code",
   "execution_count": 23,
   "metadata": {},
   "outputs": [
    {
     "data": {
      "text/plain": [
       "842"
      ]
     },
     "execution_count": 23,
     "metadata": {},
     "output_type": "execute_result"
    }
   ],
   "source": [
    "osm_file = open(filename, \"r\")\n",
    "address_count = 0\n",
    "\n",
    "for event, elem in ET.iterparse(osm_file, events=(\"start\",)):\n",
    "    if elem.tag == \"node\" or elem.tag == \"way\":\n",
    "        for tag in elem.iter(\"tag\"): \n",
    "            if is_street_name(tag):\n",
    "                address_count += 1\n",
    "\n",
    "address_count"
   ]
  },
  {
   "cell_type": "markdown",
   "metadata": {},
   "source": [
    "There are plenty of locations on the map that has their street addresses tagged. It looks like OpenStreetMap's community has collected a good amount of data for this area."
   ]
  },
  {
   "cell_type": "markdown",
   "metadata": {},
   "source": [
    "## Working with MongoDB"
   ]
  },
  {
   "cell_type": "markdown",
   "metadata": {},
   "source": [
    "The first task is to execute mongod to run MongoDB. There are plenty of guides to do this. On OS X, if you have `mongodb` installed via homebrew, homebrew actually has a handy `brew services` command.\n",
    "\n",
    "To start mongodb:\n",
    "\n",
    "    brew services start mongodb\n",
    "\n",
    "To stop mongodb if it's already running:\n",
    "\n",
    "    brew services stop mongodb\n",
    "\n",
    "Alternatively, if you have MongoDB installed and configured already we can run a subprocess for the duration of the python session:"
   ]
  },
  {
   "cell_type": "code",
   "execution_count": 25,
   "metadata": {
    "collapsed": true
   },
   "outputs": [],
   "source": [
    "import signal\n",
    "import subprocess\n",
    "\n",
    "# The os.setsid() is passed in the argument preexec_fn so\n",
    "# it's run after the fork() and before  exec() to run the shell.\n",
    "pro = subprocess.Popen('mongod', preexec_fn = os.setsid)"
   ]
  },
  {
   "cell_type": "markdown",
   "metadata": {},
   "source": [
    "Next, connect to the database with `pymongo`"
   ]
  },
  {
   "cell_type": "code",
   "execution_count": 26,
   "metadata": {
    "collapsed": true
   },
   "outputs": [],
   "source": [
    "from pymongo import MongoClient\n",
    "\n",
    "db_name = 'openstreetmap'\n",
    "\n",
    "# Connect to Mongo DB\n",
    "client = MongoClient('localhost:27017')\n",
    "# Database 'openstreetmap' will be created if it does not exist.\n",
    "db = client[db_name]"
   ]
  },
  {
   "cell_type": "markdown",
   "metadata": {},
   "source": [
    "Then just import the dataset with `mongoimport`."
   ]
  },
  {
   "cell_type": "code",
   "execution_count": 27,
   "metadata": {},
   "outputs": [
    {
     "name": "stdout",
     "output_type": "stream",
     "text": [
      "Dropping collection: cupertino_california\n",
      "Executing: mongoimport -h 127.0.0.1:27017 --db openstreetmap --collection cupertino_california --file /Users/James/Dropbox/Projects/da/data-wrangling-with-openstreetmap-and-mongodb/cupertino_california.osm.json\n"
     ]
    },
    {
     "data": {
      "text/plain": [
       "0"
      ]
     },
     "execution_count": 27,
     "metadata": {},
     "output_type": "execute_result"
    }
   ],
   "source": [
    "# Build mongoimport command\n",
    "collection = filename[:filename.find('.')]\n",
    "working_directory = '/Users/James/Dropbox/Projects/da/data-wrangling-with-openstreetmap-and-mongodb/'\n",
    "json_file = filename + '.json'\n",
    "\n",
    "mongoimport_cmd = 'mongoimport -h 127.0.0.1:27017 ' + \\\n",
    "                  '--db ' + db_name + \\\n",
    "                  ' --collection ' + collection + \\\n",
    "                  ' --file ' + working_directory + json_file\n",
    "\n",
    "# Before importing, drop collection if it exists (i.e. a re-run)\n",
    "if collection in db.collection_names():\n",
    "    print 'Dropping collection: ' + collection\n",
    "    db[collection].drop()\n",
    "    \n",
    "# Execute the command\n",
    "print 'Executing: ' + mongoimport_cmd\n",
    "subprocess.call(mongoimport_cmd.split())"
   ]
  },
  {
   "cell_type": "markdown",
   "metadata": {},
   "source": [
    "## Investigating the Data"
   ]
  },
  {
   "cell_type": "markdown",
   "metadata": {},
   "source": [
    "After importing, get the collection from the database."
   ]
  },
  {
   "cell_type": "code",
   "execution_count": null,
   "metadata": {
    "collapsed": true
   },
   "outputs": [],
   "source": [
    "hyderabad = db[collection]"
   ]
  },
  {
   "cell_type": "markdown",
   "metadata": {},
   "source": [
    "Here's where the fun stuff starts. Now that we have a audited and cleaned up collection, we can query for a bunch of interesting statistics."
   ]
  },
  {
   "cell_type": "markdown",
   "metadata": {},
   "source": [
    "**Number of Documents**"
   ]
  },
  {
   "cell_type": "code",
   "execution_count": null,
   "metadata": {},
   "outputs": [],
   "source": [
    "hyderabad.find().count()"
   ]
  },
  {
   "cell_type": "markdown",
   "metadata": {},
   "source": [
    "**Number of Unique Users**"
   ]
  },
  {
   "cell_type": "code",
   "execution_count": null,
   "metadata": {},
   "outputs": [],
   "source": [
    "len(hyderabad.distinct('created.user'))"
   ]
  },
  {
   "cell_type": "markdown",
   "metadata": {},
   "source": [
    "**Number of Nodes and Ways**"
   ]
  },
  {
   "cell_type": "code",
   "execution_count": null,
   "metadata": {},
   "outputs": [],
   "source": [
    "hyderabad.aggregate({'$group': {'_id': '$type', \\\n",
    "                                           'count': {'$sum' : 1}}})['result']"
   ]
  },
  {
   "cell_type": "markdown",
   "metadata": {},
   "source": [
    "**Top Three Contributors**"
   ]
  },
  {
   "cell_type": "code",
   "execution_count": null,
   "metadata": {},
   "outputs": [],
   "source": [
    "top_users = hyderabad.aggregate([{'$group': {'_id': '$created.user', \\\n",
    "                                                        'count': {'$sum' : 1}}}, \\\n",
    "                                            {'$sort': {'count' : -1}}, \\\n",
    "                                            {'$limit': 3}])['result']\n",
    "\n",
    "pprint.pprint(top_users)\n",
    "print\n",
    "\n",
    "for user in top_users:\n",
    "    pprint.pprint(hyderabad.find({'created.user': user['_id']})[0])"
   ]
  },
  {
   "cell_type": "markdown",
   "metadata": {},
   "source": [
    "**Three Most Referenced Nodes**"
   ]
  },
  {
   "cell_type": "code",
   "execution_count": null,
   "metadata": {},
   "outputs": [],
   "source": [
    "top_nodes = hyderabad.aggregate([{'$unwind': '$node_refs'}, \\\n",
    "                                            {'$group': {'_id': '$node_refs', \\\n",
    "                                                        'count': {'$sum': 1}}}, \\\n",
    "                                            {'$sort': {'count': -1}}, \\\n",
    "                                            {'$limit': 3}])['result']\n",
    "\n",
    "pprint.pprint(top_nodes)\n",
    "print\n",
    "\n",
    "for node in top_nodes:\n",
    "    pprint.pprint(hyderabad.find({'id': node['_id']})[0])"
   ]
  },
  {
   "cell_type": "markdown",
   "metadata": {},
   "source": [
    "**Number of Documents with Street Addresses**"
   ]
  },
  {
   "cell_type": "code",
   "execution_count": null,
   "metadata": {},
   "outputs": [],
   "source": [
    "hyderabad.find({'address.street': {'$exists': 1}}).count()"
   ]
  },
  {
   "cell_type": "markdown",
   "metadata": {},
   "source": [
    "**List of Zip Codes**"
   ]
  },
  {
   "cell_type": "code",
   "execution_count": null,
   "metadata": {},
   "outputs": [],
   "source": [
    "hyderabad.aggregate([{'$match': {'address.postcode': {'$exists': 1}}}, \\\n",
    "                                {'$group': {'_id': '$address.postcode', \\\n",
    "                                            'count': {'$sum': 1}}}, \\\n",
    "                                {'$sort': {'count': -1}}])['result']"
   ]
  },
  {
   "cell_type": "markdown",
   "metadata": {},
   "source": [
    "It looks like have some invalid zip codes, with the state name or unicode characters included.\n",
    "\n",
    "The zip codes with 4 digit postal codes included are still valid though, and we might consider removing these postal codes during the cleaning process."
   ]
  },
  {
   "cell_type": "markdown",
   "metadata": {},
   "source": [
    "**Cities with Most Records**"
   ]
  },
  {
   "cell_type": "code",
   "execution_count": null,
   "metadata": {},
   "outputs": [],
   "source": [
    "hyderabad.aggregate([{'$match': {'address.city': {'$exists': 1}}}, \\\n",
    "                                {'$group': {'_id': '$address.city', \\\n",
    "                                            'count': {'$sum': 1}}}, \\\n",
    "                                {'$sort': {'count': -1}}])['result']\n"
   ]
  },
  {
   "cell_type": "markdown",
   "metadata": {
    "collapsed": true
   },
   "source": [
    "Likewise, some cities capitalization and the accented-e gives way to more auditing and cleaning.\n",
    "\n",
    "It's interesting to note how well Sunnyvale and Santa Clara have been documented, relative to the other cities despite having the area covering mostly Cupertino, Saratoga, West San Jose."
   ]
  },
  {
   "cell_type": "markdown",
   "metadata": {},
   "source": [
    "**Top 10 Amenities**"
   ]
  },
  {
   "cell_type": "code",
   "execution_count": null,
   "metadata": {},
   "outputs": [],
   "source": [
    "hyderabad.aggregate([{'$match': {'amenity': {'$exists': 1}}}, \\\n",
    "                                {'$group': {'_id': '$amenity', \\\n",
    "                                            'count': {'$sum': 1}}}, \\\n",
    "                                {'$sort': {'count': -1}}, \\\n",
    "                                {'$limit': 10}])['result']"
   ]
  },
  {
   "cell_type": "markdown",
   "metadata": {},
   "source": [
    "** Top 10 Banks**\n",
    "\n",
    "It's a pain when there isn't a local branch of your bank closeby. Lets what banks have the most locations in this area to avoid this."
   ]
  },
  {
   "cell_type": "code",
   "execution_count": null,
   "metadata": {},
   "outputs": [],
   "source": [
    "hyderabad.aggregate([{'$match': {'amenity': 'bank'}}, \\\n",
    "                                {'$group': {'_id': '$name', \\\n",
    "                                            'count': {'$sum': 1}}}, \\\n",
    "                                {'$sort': {'count': -1}}, \\\n",
    "                                {'$limit': 10}])['result']"
   ]
  },
  {
   "cell_type": "markdown",
   "metadata": {},
   "source": [
    "## Other Ideas About the Dataset"
   ]
  },
  {
   "cell_type": "markdown",
   "metadata": {},
   "source": [
    "From exploring the OpenStreetMap dataset, I found the data structure to be flexible enough to include a vast multitude of user generated quantitative and qualitative data beyond that of simply defining a virtual map. There's plenty of potential to extend OpenStreetMap to include user reviews of establishments, subjective areas of what classifies a good vs bad neighborhood, housing price data, school reviews, walkability/bikeability, quality of mass transit, and a bunch of other metrics that could form a solid foundation for robust recommender systems. These recommender systems could aid users in deciding where to live or what cool food joints to check out.\n",
    "\n",
    "The data is far too incomplete to be able to implement such recommender systems as it stands now, but the OpenStreetMap project could really benefit from visualizing data on content generation within their maps. For example, a heat map layer could be overlayed on the map showing how frequently or how recently certain regions of the map have been updated. These map layers could help guide users towards areas of the map that need attention in order to help more fully complete the data set.\n",
    "\n",
    "Next I will cover a couple of queries that are aligned with these ideas about the velocity and volume of content generation\n",
    "\n",
    "**Amount of Nodes Elements Created by Day of Week**\n",
    "\n",
    "I will use the `$dayOfWeek` operator to extract the day of week from the `created.timestamp` field, where 1 is Sunday and 7 is Saturday:\n",
    "\n",
    "http://docs.mongodb.org/manual/reference/operator/aggregation/dayOfWeek/"
   ]
  },
  {
   "cell_type": "code",
   "execution_count": null,
   "metadata": {},
   "outputs": [],
   "source": [
    "hyderabad.aggregate([{'$project': {'dayOfWeek': {'$dayOfWeek': '$created.timestamp'}}}, \\\n",
    "                                {'$group': {'_id': '$dayOfWeek', \\\n",
    "                                            'count': {'$sum': 1}}}, \\\n",
    "                                {'$sort': {'_id': 1}}])['result']"
   ]
  },
  {
   "cell_type": "markdown",
   "metadata": {},
   "source": [
    "It seems like users were more active on in the beginning of the week."
   ]
  },
  {
   "cell_type": "markdown",
   "metadata": {},
   "source": [
    "**Age of Elements**\n",
    "\n",
    "Lets see how old elements were created in the XML using the `created.timestamp` field and visualize this data by pushing the calculated values into a list."
   ]
  },
  {
   "cell_type": "code",
   "execution_count": null,
   "metadata": {
    "collapsed": true
   },
   "outputs": [],
   "source": [
    "ages = hyderabad.aggregate([ \\\n",
    "               {'$project': {'ageInMilliseconds': {'$subtract': [datetime.now(), '$created.timestamp']}}}, \\\n",
    "               {'$project': {'_id': 0, \\\n",
    "                             'ageInDays': {'$divide': ['$ageInMilliseconds', 1000*60*60*24]}}}, \\\n",
    "               {'$group'  : {'_id': 1, \\\n",
    "                             'ageInDays': {'$push': '$ageInDays'}}}, \\\n",
    "               {'$project': {'_id': 0, \\\n",
    "                             'ageInDays': 1}}])['result'][0]"
   ]
  },
  {
   "cell_type": "markdown",
   "metadata": {},
   "source": [
    "Now I have a dictionary with an `ageInDays` key and a list of floats as the value. Next, I will create a pandas dataframe from this dictionary"
   ]
  },
  {
   "cell_type": "code",
   "execution_count": null,
   "metadata": {},
   "outputs": [],
   "source": [
    "from pandas import DataFrame\n",
    "\n",
    "age_df = DataFrame.from_dict(ages)\n",
    "# age_df.index.name = 'element'\n",
    "print age_df.head()"
   ]
  },
  {
   "cell_type": "markdown",
   "metadata": {},
   "source": [
    "Lets plot a histogram of this series with our best friend `ggplot`. The binwidth is set to 30 (about a month)"
   ]
  },
  {
   "cell_type": "code",
   "execution_count": null,
   "metadata": {
    "scrolled": true
   },
   "outputs": [],
   "source": [
    "%matplotlib inline\n",
    "from ggplot import *\n",
    "import warnings\n",
    "\n",
    "# ggplot usage of pandas throws a future warning\n",
    "warnings.filterwarnings('ignore')\n",
    "\n",
    "print ggplot(aes(x='ageInDays'), data=age_df) + \\\n",
    "             geom_histogram(binwidth=30, fill='#007ee5')"
   ]
  },
  {
   "cell_type": "markdown",
   "metadata": {},
   "source": [
    "Note the rise and fall of large spikes of activity occurring about every 400 days. I hypothesize that these are due to single users making many edits in this concentrated map area in a short period of time."
   ]
  }
 ],
 "metadata": {
  "kernelspec": {
   "display_name": "Python 3",
   "language": "python",
   "name": "python3"
  },
  "language_info": {
   "codemirror_mode": {
    "name": "ipython",
    "version": 3
   },
   "file_extension": ".py",
   "mimetype": "text/x-python",
   "name": "python",
   "nbconvert_exporter": "python",
   "pygments_lexer": "ipython3",
   "version": "3.6.3"
  }
 },
 "nbformat": 4,
 "nbformat_minor": 1
}
